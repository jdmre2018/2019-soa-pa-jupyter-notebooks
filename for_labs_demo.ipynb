{
 "cells": [
  {
   "cell_type": "markdown",
   "metadata": {},
   "source": [
    "### Jupyter Labs: [Try it Out](https://jupyterlab.readthedocs.io/en/stable/index.html)"
   ]
  },
  {
   "cell_type": "code",
   "execution_count": null,
   "metadata": {},
   "outputs": [],
   "source": [
    "import importlib\n",
    "import utils\n",
    "importlib.reload(utils)"
   ]
  },
  {
   "cell_type": "code",
   "execution_count": null,
   "metadata": {},
   "outputs": [],
   "source": [
    "sample_value = 10e3"
   ]
  },
  {
   "cell_type": "code",
   "execution_count": null,
   "metadata": {},
   "outputs": [],
   "source": [
    "formatted_sample = utils.format_amt(sample_value)"
   ]
  },
  {
   "cell_type": "code",
   "execution_count": null,
   "metadata": {},
   "outputs": [],
   "source": [
    "formatted_sample"
   ]
  }
 ],
 "metadata": {
  "kernelspec": {
   "display_name": "Python [conda env:basic_env] *",
   "language": "python",
   "name": "conda-env-basic_env-py"
  },
  "language_info": {
   "codemirror_mode": {
    "name": "ipython",
    "version": 3
   },
   "file_extension": ".py",
   "mimetype": "text/x-python",
   "name": "python",
   "nbconvert_exporter": "python",
   "pygments_lexer": "ipython3",
   "version": "3.7.3"
  },
  "widgets": {
   "application/vnd.jupyter.widget-state+json": {
    "state": {
     "023b1fc24fac4f84b9471f5a5823f7f4": {
      "model_module": "jupyter-js-widgets",
      "model_module_version": "~2.1.4",
      "model_name": "ButtonStyleModel",
      "state": {
       "_model_module_version": "~2.1.4",
       "_view_module_version": "~2.1.4"
      }
     },
     "080bf63cfc914adab5c337701b6e0951": {
      "model_module": "jupyter-js-widgets",
      "model_module_version": "~2.1.4",
      "model_name": "LayoutModel",
      "state": {
       "_model_module_version": "~2.1.4",
       "_view_module_version": "~2.1.4"
      }
     },
     "1ac6ed9a74f9462496cad32de514a960": {
      "model_module": "jupyter-js-widgets",
      "model_module_version": "~2.1.4",
      "model_name": "LayoutModel",
      "state": {
       "_model_module_version": "~2.1.4",
       "_view_module_version": "~2.1.4"
      }
     },
     "261990874e444970a7976d7a1a547e46": {
      "model_module": "jupyter-js-widgets",
      "model_module_version": "~2.1.4",
      "model_name": "TextModel",
      "state": {
       "_model_module_version": "~2.1.4",
       "_view_module_version": "~2.1.4",
       "description": "Straight Through Pass Rate",
       "layout": "IPY_MODEL_5de771b29e0c45f0a86945d68e9513a7",
       "value": "100%"
      }
     },
     "310ae8da361a41b89204bee8bdcc8967": {
      "model_module": "jupyter-js-widgets",
      "model_module_version": "~2.1.4",
      "model_name": "FloatSliderModel",
      "state": {
       "_model_module_version": "~2.1.4",
       "_view_module_version": "~2.1.4",
       "description": "Face Amount Threshold",
       "layout": "IPY_MODEL_e802af8ff427462f95401c612cbea1e6",
       "max": 1000000,
       "readout_format": "$,.0f",
       "step": 10000,
       "value": 1000000
      }
     },
     "388bf60df07d495e832f7284e8b92619": {
      "model_module": "jupyter-js-widgets",
      "model_module_version": "~2.1.4",
      "model_name": "IntSliderModel",
      "state": {
       "_model_module_version": "~2.1.4",
       "_range": true,
       "_view_module_version": "~2.1.4",
       "description": "Acceptable Issue Age Range",
       "layout": "IPY_MODEL_b2355b6cf03f4b60b49a3f2b9f0caddc",
       "max": 120,
       "slider_color": null,
       "value": [
        18,
        75
       ]
      }
     },
     "402bfcad76c748b19c36a25f9b62bbf6": {
      "model_module": "jupyter-js-widgets",
      "model_module_version": "~2.1.4",
      "model_name": "FloatSliderModel",
      "state": {
       "_model_module_version": "~2.1.4",
       "_range": true,
       "_view_module_version": "~2.1.4",
       "description": "Acceptable BMI Range",
       "layout": "IPY_MODEL_c335b52ff9b14b42bc91b33eebf7caad",
       "max": 50,
       "min": 10,
       "step": 0.1,
       "value": [
        20,
        45
       ]
      }
     },
     "543d478f709246b4ae8ec0b944bdb480": {
      "model_module": "jupyter-js-widgets",
      "model_module_version": "~2.1.4",
      "model_name": "CheckboxModel",
      "state": {
       "_model_module_version": "~2.1.4",
       "_view_module_version": "~2.1.4",
       "description": "Kick out High Blood Pressure?",
       "disabled": false,
       "layout": "IPY_MODEL_cb36643c147043e58c0d2a23effd3465",
       "value": false
      }
     },
     "5c4de47cd4854c5aaab45946b0d6686f": {
      "model_module": "jupyter-js-widgets",
      "model_module_version": "~2.1.4",
      "model_name": "OutputModel",
      "state": {
       "_dom_classes": [],
       "_model_module": "jupyter-js-widgets",
       "_model_module_version": "~2.1.4",
       "_view_module": "jupyter-js-widgets",
       "_view_module_version": "~2.1.4",
       "layout": "IPY_MODEL_e2a5e87a24804803a7196572dc234a70",
       "msg_throttle": 1
      }
     },
     "5cb51db13cda4973b40f697924edabc9": {
      "model_module": "jupyter-js-widgets",
      "model_module_version": "~2.1.4",
      "model_name": "LayoutModel",
      "state": {
       "_model_module_version": "~2.1.4",
       "_view_module_version": "~2.1.4"
      }
     },
     "5de771b29e0c45f0a86945d68e9513a7": {
      "model_module": "jupyter-js-widgets",
      "model_module_version": "~2.1.4",
      "model_name": "LayoutModel",
      "state": {
       "_model_module_version": "~2.1.4",
       "_view_module_version": "~2.1.4"
      }
     },
     "6089bece671c48219bd123714ae468f5": {
      "model_module": "jupyter-js-widgets",
      "model_module_version": "~2.1.4",
      "model_name": "VBoxModel",
      "state": {
       "_dom_classes": [
        "widget-interact"
       ],
       "_model_module_version": "~2.1.4",
       "_view_module_version": "~2.1.4",
       "children": [
        "IPY_MODEL_a14132f826d645d0b50b53be676b8c2b",
        "IPY_MODEL_5c4de47cd4854c5aaab45946b0d6686f"
       ],
       "layout": "IPY_MODEL_1ac6ed9a74f9462496cad32de514a960"
      }
     },
     "73955609df2e4485bf5d952f34cde7c5": {
      "model_module": "jupyter-js-widgets",
      "model_module_version": "~2.1.4",
      "model_name": "LayoutModel",
      "state": {
       "_model_module_version": "~2.1.4",
       "_view_module_version": "~2.1.4"
      }
     },
     "7540cbbef5274b5c8135ae51eb5f96bd": {
      "model_module": "jupyter-js-widgets",
      "model_module_version": "~2.1.4",
      "model_name": "ButtonModel",
      "state": {
       "_model_module_version": "~2.1.4",
       "_view_module_version": "~2.1.4",
       "description": "Click Me!",
       "layout": "IPY_MODEL_73955609df2e4485bf5d952f34cde7c5",
       "style": "IPY_MODEL_023b1fc24fac4f84b9471f5a5823f7f4"
      }
     },
     "7822a8c0fae148c4a0068bf264d65861": {
      "model_module": "jupyter-js-widgets",
      "model_module_version": "~2.1.4",
      "model_name": "TextModel",
      "state": {
       "_model_module_version": "~2.1.4",
       "_view_module_version": "~2.1.4",
       "layout": "IPY_MODEL_8b687b209c4c409db80c64b2681cfd2a"
      }
     },
     "878bd0712e034907a4cde9877feb594b": {
      "model_module": "jupyter-js-widgets",
      "model_module_version": "~2.1.4",
      "model_name": "TextModel",
      "state": {
       "_model_module_version": "~2.1.4",
       "_view_module_version": "~2.1.4",
       "description": "Decline Percentage",
       "layout": "IPY_MODEL_b8130ddade5447ebaf0bbeb854c1d4c6",
       "value": "10%"
      }
     },
     "8b687b209c4c409db80c64b2681cfd2a": {
      "model_module": "jupyter-js-widgets",
      "model_module_version": "~2.1.4",
      "model_name": "LayoutModel",
      "state": {
       "_model_module_version": "~2.1.4",
       "_view_module_version": "~2.1.4"
      }
     },
     "a14132f826d645d0b50b53be676b8c2b": {
      "model_module": "jupyter-js-widgets",
      "model_module_version": "~2.1.4",
      "model_name": "IntSliderModel",
      "state": {
       "_model_module_version": "~2.1.4",
       "_view_module_version": "~2.1.4",
       "description": "x",
       "layout": "IPY_MODEL_080bf63cfc914adab5c337701b6e0951",
       "max": 300,
       "min": -100,
       "style": "IPY_MODEL_af9bbd44bc2d486287b40d8d3b34155d",
       "value": 100
      }
     },
     "af9bbd44bc2d486287b40d8d3b34155d": {
      "model_module": "jupyter-js-widgets",
      "model_module_version": "~2.1.4",
      "model_name": "SliderStyleModel",
      "state": {
       "_model_module_version": "~2.1.4",
       "_view_module_version": "~2.1.4"
      }
     },
     "b2355b6cf03f4b60b49a3f2b9f0caddc": {
      "model_module": "jupyter-js-widgets",
      "model_module_version": "~2.1.4",
      "model_name": "LayoutModel",
      "state": {
       "_model_module_version": "~2.1.4",
       "_view_module_version": "~2.1.4"
      }
     },
     "b8130ddade5447ebaf0bbeb854c1d4c6": {
      "model_module": "jupyter-js-widgets",
      "model_module_version": "~2.1.4",
      "model_name": "LayoutModel",
      "state": {
       "_model_module_version": "~2.1.4",
       "_view_module_version": "~2.1.4"
      }
     },
     "bdf642ef8dbf438494331603b88afbab": {
      "model_module": "jupyter-js-widgets",
      "model_module_version": "~2.1.4",
      "model_name": "CheckboxModel",
      "state": {
       "_model_module_version": "~2.1.4",
       "_view_module_version": "~2.1.4",
       "description": "Kick out Diabetes?",
       "disabled": false,
       "layout": "IPY_MODEL_5cb51db13cda4973b40f697924edabc9",
       "value": false
      }
     },
     "c335b52ff9b14b42bc91b33eebf7caad": {
      "model_module": "jupyter-js-widgets",
      "model_module_version": "~2.1.4",
      "model_name": "LayoutModel",
      "state": {
       "_model_module_version": "~2.1.4",
       "_view_module_version": "~2.1.4"
      }
     },
     "cb36643c147043e58c0d2a23effd3465": {
      "model_module": "jupyter-js-widgets",
      "model_module_version": "~2.1.4",
      "model_name": "LayoutModel",
      "state": {
       "_model_module_version": "~2.1.4",
       "_view_module_version": "~2.1.4"
      }
     },
     "e2a5e87a24804803a7196572dc234a70": {
      "model_module": "jupyter-js-widgets",
      "model_module_version": "~2.1.4",
      "model_name": "LayoutModel",
      "state": {
       "_model_module_version": "~2.1.4",
       "_view_module_version": "~2.1.4"
      }
     },
     "e802af8ff427462f95401c612cbea1e6": {
      "model_module": "jupyter-js-widgets",
      "model_module_version": "~2.1.4",
      "model_name": "LayoutModel",
      "state": {
       "_model_module_version": "~2.1.4",
       "_view_module_version": "~2.1.4"
      }
     }
    },
    "version_major": 1,
    "version_minor": 0
   }
  }
 },
 "nbformat": 4,
 "nbformat_minor": 4
}
