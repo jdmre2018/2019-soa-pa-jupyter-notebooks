{
 "cells": [
  {
   "cell_type": "markdown",
   "metadata": {},
   "source": [
    "# Table of Contents\n",
    "1. [Introduction](#introduction)\n",
    "    1. [Jupyter Notebooks in the News](#news)\n",
    "    2. [Code Cells](#code)\n",
    "    3. [Markdown Cells & Documentation](#markdown)\n",
    "2. [Magics & Other Functionality](#magics)\n",
    "    1. [Magics Introduction](#magics_intro)\n",
    "    2. [Profiling Using Magics](#profiling)\n",
    "    3. [Modeling in Python and R](#combining_languages)\n",
    "3. [Widgets](#widgets)\n",
    "4. [Additional Resources](#additional_resources)"
   ]
  },
  {
   "cell_type": "markdown",
   "metadata": {},
   "source": [
    "# Introduction <a name=\"introduction\"></a>\n",
    "\n",
    "[Official Homepage](https://jupyter.org/):  \n",
    "\"The Jupyter Notebook is an open-source web application that allows you to create and share documents that contain live code, equations, visualizations and narrative text. Uses include: data cleaning and transformation, numerical simulation, statistical modeling, data visualization, machine learning, and much more.\""
   ]
  },
  {
   "cell_type": "markdown",
   "metadata": {},
   "source": [
    "See README in repo for links to installation instructions and how to run notebooks."
   ]
  },
  {
   "cell_type": "markdown",
   "metadata": {},
   "source": [
    "## Jupyter Notebooks in the News: <a name=\"news\"></a>"
   ]
  },
  {
   "cell_type": "markdown",
   "metadata": {},
   "source": [
    "> ### 2018:\n",
    "> ### [Beyond Interactive: Notebook Innovation at Netflix](https://medium.com/netflix-techblog/notebook-innovation-591ee3221233)\n",
    "> \"Notebooks have rapidly grown in popularity among data scientists to become the **de facto standard for quick prototyping and exploratory analysis.** At Netflix, we’re pushing the boundaries even further, reimagining what a notebook can be, who can use it, and what they can do with it. And we’re making big investments to help make this vision a reality.\"\n",
    "> ### 2019:\n",
    "> ### [HackerRank expands its hiring platform to include data scientists](https://techcrunch.com/2019/08/27/hackerrank-expands-its-hiring-platform-to-include-data-scientists/)\n",
    ">\"What’s especially smart here is that HackerRank is using **industry-standard Jupyter notebooks** as the development environment. Since that’s essentially the platform that most data scientists already use ... they get to work in a realistic environment that will likely mimic what they’ll use at work, too.\""
   ]
  },
  {
   "cell_type": "markdown",
   "metadata": {},
   "source": [
    "Jupyter notebooks were born from the IPython project. The name \"Jupyter\" comes from combining the three languages of Julia, Python, and R, but Jupyter notebooks actually support a variety of different programming languages. [How do notebooks work?](https://jupyter.readthedocs.io/en/latest/architecture/how_jupyter_ipython_work.html)"
   ]
  },
  {
   "cell_type": "markdown",
   "metadata": {},
   "source": [
    "## Code Cells <a name=\"code\"></a>"
   ]
  },
  {
   "cell_type": "code",
   "execution_count": 1,
   "metadata": {},
   "outputs": [],
   "source": [
    "x = 'Hello SOA'"
   ]
  },
  {
   "cell_type": "code",
   "execution_count": 2,
   "metadata": {},
   "outputs": [
    {
     "data": {
      "text/plain": [
       "'Hello SOA'"
      ]
     },
     "execution_count": 2,
     "metadata": {},
     "output_type": "execute_result"
    }
   ],
   "source": [
    "x"
   ]
  },
  {
   "cell_type": "code",
   "execution_count": 3,
   "metadata": {
    "scrolled": true
   },
   "outputs": [
    {
     "data": {
      "text/plain": [
       "'Hello SOA'"
      ]
     },
     "execution_count": 3,
     "metadata": {},
     "output_type": "execute_result"
    }
   ],
   "source": [
    "x\n",
    "x"
   ]
  },
  {
   "cell_type": "code",
   "execution_count": 4,
   "metadata": {},
   "outputs": [
    {
     "data": {
      "text/plain": [
       "('Hello SOA', 'Hello SOA')"
      ]
     },
     "execution_count": 4,
     "metadata": {},
     "output_type": "execute_result"
    }
   ],
   "source": [
    "x, x"
   ]
  },
  {
   "cell_type": "code",
   "execution_count": 5,
   "metadata": {},
   "outputs": [],
   "source": [
    "# Ending a line with a semicolon represses the output cell\n",
    "x;"
   ]
  },
  {
   "cell_type": "code",
   "execution_count": 6,
   "metadata": {},
   "outputs": [
    {
     "name": "stdout",
     "output_type": "stream",
     "text": [
      "I bought 6 pounds of apples at $3.99 per pound for $23.94 total.\n",
      "I bought 8 pounds of bananas at $0.99 per pound for $7.92 total.\n",
      "I bought 9 pounds of oranges at $1.99 per pound for $17.91 total.\n",
      "\n",
      "I spent $49.77 all together.\n"
     ]
    }
   ],
   "source": [
    "shopping_list = ['apples', 'bananas', 'oranges']\n",
    "prices = [3.99, .99, 1.99]\n",
    "quantities = [6, 8, 9]\n",
    "total_cost = 0\n",
    "\n",
    "for fruit, price, quantity in zip(shopping_list, prices, quantities):\n",
    "    total_cost += price * quantity\n",
    "    print(f'I bought {quantity} pounds of {fruit} at ${price} per pound for ${price * quantity} total.')\n",
    "    \n",
    "print(f'\\nI spent ${total_cost:0.2f} all together.')"
   ]
  },
  {
   "cell_type": "markdown",
   "metadata": {},
   "source": [
    "## Markdown & Documentation <a name=\"markdown\"></a>\n",
    "Jupyter notebooks are an easy and effective method of documenting your process and findings. The language used for documentation within Jupyter notebooks is called **Markdown**. Reference: [Markdown Basics](https://markdown-guide.readthedocs.io/en/latest/basics.html) "
   ]
  },
  {
   "cell_type": "markdown",
   "metadata": {},
   "source": [
    "Within markdown cells you can include mathematical expressions within your code using the following syntax: `$$ <mathematical expression> $$`"
   ]
  },
  {
   "cell_type": "markdown",
   "metadata": {},
   "source": [
    "$$ a^2 + b^2 = c^2 $$\n",
    "$$ \\sum_{i=1}^n (1+r)^{-i} $$\n",
    "$$ \\int_0^\\infty \\mathrm{e}^{-x}\\,\\mathrm{d}x $$"
   ]
  },
  {
   "cell_type": "markdown",
   "metadata": {},
   "source": [
    "Embedding HTML, images, or videos is also easy."
   ]
  },
  {
   "cell_type": "markdown",
   "metadata": {},
   "source": [
    "##### Not technically markdown, but embedding images, videos, and code is also possible:"
   ]
  },
  {
   "cell_type": "code",
   "execution_count": 7,
   "metadata": {},
   "outputs": [],
   "source": [
    "from IPython.display import display, YouTubeVideo, HTML, Image"
   ]
  },
  {
   "cell_type": "code",
   "execution_count": 8,
   "metadata": {
    "scrolled": true
   },
   "outputs": [
    {
     "data": {
      "text/html": [
       "<img src=\"http://affirmagency.com/assets/data-quote.png\"/>"
      ],
      "text/plain": [
       "<IPython.core.display.Image object>"
      ]
     },
     "execution_count": 8,
     "metadata": {},
     "output_type": "execute_result"
    }
   ],
   "source": [
    "Image(url='http://affirmagency.com/assets/data-quote.png')"
   ]
  },
  {
   "cell_type": "code",
   "execution_count": 9,
   "metadata": {},
   "outputs": [
    {
     "data": {
      "image/jpeg": "[encoded data removed]",
      "text/html": [
       "\n",
       "        <iframe\n",
       "            width=\"400\"\n",
       "            height=\"300\"\n",
       "            src=\"https://www.youtube.com/embed/8oisAcVTZfQ\"\n",
       "            frameborder=\"0\"\n",
       "            allowfullscreen\n",
       "        ></iframe>\n",
       "        "
      ],
      "text/plain": [
       "<IPython.lib.display.YouTubeVideo at 0x505b940>"
      ]
     },
     "execution_count": 9,
     "metadata": {},
     "output_type": "execute_result"
    }
   ],
   "source": [
    "YouTubeVideo('8oisAcVTZfQ')"
   ]
  },
  {
   "cell_type": "code",
   "execution_count": 10,
   "metadata": {},
   "outputs": [
    {
     "data": {
      "text/html": [
       "<h3>This is a HTML header!</h3>"
      ],
      "text/plain": [
       "<IPython.core.display.HTML object>"
      ]
     },
     "metadata": {},
     "output_type": "display_data"
    }
   ],
   "source": [
    "display(HTML('<h3>This is a HTML header!</h3>'))"
   ]
  },
  {
   "cell_type": "markdown",
   "metadata": {},
   "source": [
    "# Magics & Other Functionality<a name=\"magics\"></a>"
   ]
  },
  {
   "cell_type": "markdown",
   "metadata": {},
   "source": [
    "## Magics Introduction<a name=\"magics_intro\"></a>\n",
    "One of the highlights of Jupyter Notebooks (especially with a python kernel) are magics. You can view all magic commands and helpful documentation with ```%magic```. [Web documentation](https://ipython.readthedocs.io/en/stable/interactive/magics.html)"
   ]
  },
  {
   "cell_type": "code",
   "execution_count": 11,
   "metadata": {},
   "outputs": [],
   "source": [
    "%magic"
   ]
  },
  {
   "cell_type": "code",
   "execution_count": 12,
   "metadata": {},
   "outputs": [],
   "source": [
    "x = 10"
   ]
  },
  {
   "cell_type": "code",
   "execution_count": 13,
   "metadata": {},
   "outputs": [
    {
     "data": {
      "text/plain": [
       "['HTML',\n",
       " 'Image',\n",
       " 'YouTubeVideo',\n",
       " 'display',\n",
       " 'fruit',\n",
       " 'price',\n",
       " 'prices',\n",
       " 'quantities',\n",
       " 'quantity',\n",
       " 'shopping_list',\n",
       " 'total_cost',\n",
       " 'x']"
      ]
     },
     "execution_count": 13,
     "metadata": {},
     "output_type": "execute_result"
    }
   ],
   "source": [
    "%who_ls"
   ]
  },
  {
   "cell_type": "code",
   "execution_count": 14,
   "metadata": {},
   "outputs": [
    {
     "name": "stdout",
     "output_type": "stream",
     "text": [
      "Variable        Type        Data/Info\n",
      "-------------------------------------\n",
      "HTML            type        <class 'IPython.core.display.HTML'>\n",
      "Image           type        <class 'IPython.core.display.Image'>\n",
      "YouTubeVideo    type        <class 'IPython.lib.display.YouTubeVideo'>\n",
      "display         function    <function display at 0x0000000002FDB9D8>\n",
      "fruit           str         oranges\n",
      "price           float       1.99\n",
      "prices          list        n=3\n",
      "quantities      list        n=3\n",
      "quantity        int         9\n",
      "shopping_list   list        n=3\n",
      "total_cost      float       49.769999999999996\n",
      "x               int         10\n"
     ]
    }
   ],
   "source": [
    "%whos"
   ]
  },
  {
   "cell_type": "markdown",
   "metadata": {},
   "source": [
    "#### Other commands:\n",
    "You can use `?` for help on any function, for information on any variable, and help on any magic function. Use ?? for more detailed documnetation."
   ]
  },
  {
   "cell_type": "code",
   "execution_count": 15,
   "metadata": {},
   "outputs": [],
   "source": [
    "?x"
   ]
  },
  {
   "cell_type": "code",
   "execution_count": 16,
   "metadata": {},
   "outputs": [],
   "source": [
    "?Image"
   ]
  },
  {
   "cell_type": "markdown",
   "metadata": {},
   "source": [
    "Alternatively, use Shift + Tab immediately after typing an object name"
   ]
  },
  {
   "cell_type": "code",
   "execution_count": 17,
   "metadata": {
    "scrolled": true
   },
   "outputs": [
    {
     "data": {
      "text/plain": [
       "IPython.core.display.Image"
      ]
     },
     "execution_count": 17,
     "metadata": {},
     "output_type": "execute_result"
    }
   ],
   "source": [
    "Image"
   ]
  },
  {
   "cell_type": "markdown",
   "metadata": {},
   "source": [
    "You can run shell commands and capture the output using `!`; where "
   ]
  },
  {
   "cell_type": "code",
   "execution_count": 18,
   "metadata": {},
   "outputs": [
    {
     "name": "stdout",
     "output_type": "stream",
     "text": [
      " Volume in drive C is OSDisk\n",
      " Volume Serial Number is 7836-E518\n",
      "\n",
      " Directory of C:\\Users\\n163372\\2019-soa-pa-jupyter-notebooks\n",
      "\n",
      "09/16/2019  02:17 PM    <DIR>          .\n",
      "09/16/2019  02:17 PM    <DIR>          ..\n",
      "09/13/2019  04:47 PM    <DIR>          .ipynb_checkpoints\n",
      "09/11/2019  02:47 PM    <DIR>          data\n",
      "09/16/2019  02:00 PM               879 dt.dot\n",
      "09/16/2019  02:00 PM            42,648 dt.png\n",
      "09/13/2019  04:49 PM            18,092 environment.yml\n",
      "09/16/2019  02:16 PM            11,381 for_labs_demo.ipynb\n",
      "09/16/2019  01:13 PM            50,393 julias_transcript_edit.docx\n",
      "09/13/2019  08:59 PM           670,412 jupyter_notebook_tutorial.html\n",
      "09/16/2019  02:17 PM           379,875 jupyter_notebook_tutorial.ipynb\n",
      "09/13/2019  06:47 PM             1,628 README.md\n",
      "09/11/2019  02:52 PM                58 utils.py\n",
      "09/11/2019  02:52 PM    <DIR>          __pycache__\n",
      "               9 File(s)      1,175,366 bytes\n",
      "               5 Dir(s)  69,585,215,488 bytes free\n"
     ]
    }
   ],
   "source": [
    "#For Linux:\n",
    "#!ls\n",
    "# For Windows:\n",
    "!DIR"
   ]
  },
  {
   "cell_type": "markdown",
   "metadata": {},
   "source": [
    "## Profiling Using Magics<a name=\"profiling\"></a>\n",
    "Profiling is a easy and effective way to identify bottlenecks in your code."
   ]
  },
  {
   "cell_type": "code",
   "execution_count": 19,
   "metadata": {},
   "outputs": [],
   "source": [
    "%load_ext line_profiler"
   ]
  },
  {
   "cell_type": "code",
   "execution_count": 20,
   "metadata": {},
   "outputs": [],
   "source": [
    "def profile_slow(n):\n",
    "    total = 0\n",
    "    for i in range(n):\n",
    "        total += slow_func(i)\n",
    "    return total\n",
    "        \n",
    "def profile_fast(n):\n",
    "    total = 0\n",
    "    for i in range(n):\n",
    "        total += fast_func(i)\n",
    "    return total\n",
    "    \n",
    "def slow_func(x):\n",
    "    number_list = range(x)\n",
    "    total = sum(number_list)\n",
    "    return total\n",
    "    \n",
    "def fast_func(x):\n",
    "    return ((x+1)*x)/2"
   ]
  },
  {
   "cell_type": "code",
   "execution_count": 21,
   "metadata": {},
   "outputs": [
    {
     "name": "stdout",
     "output_type": "stream",
     "text": [
      "Wall time: 20 ms\n"
     ]
    },
    {
     "data": {
      "text/plain": [
       "166167000"
      ]
     },
     "execution_count": 21,
     "metadata": {},
     "output_type": "execute_result"
    }
   ],
   "source": [
    "%time profile_slow(1000)"
   ]
  },
  {
   "cell_type": "code",
   "execution_count": 22,
   "metadata": {},
   "outputs": [
    {
     "name": "stdout",
     "output_type": "stream",
     "text": [
      "9.42 ms ± 1.85 ms per loop (mean ± std. dev. of 7 runs, 100 loops each)\n"
     ]
    }
   ],
   "source": [
    "%timeit profile_slow(1000)"
   ]
  },
  {
   "cell_type": "code",
   "execution_count": 23,
   "metadata": {},
   "outputs": [
    {
     "name": "stdout",
     "output_type": "stream",
     "text": [
      "242 µs ± 13.1 µs per loop (mean ± std. dev. of 7 runs, 1000 loops each)\n"
     ]
    }
   ],
   "source": [
    "%timeit profile_fast(1000)"
   ]
  },
  {
   "cell_type": "code",
   "execution_count": 24,
   "metadata": {},
   "outputs": [],
   "source": [
    "%lprun -f profile_slow profile_slow(1000)"
   ]
  },
  {
   "cell_type": "code",
   "execution_count": 25,
   "metadata": {},
   "outputs": [],
   "source": [
    "%lprun -f slow_func profile_slow(1000)"
   ]
  },
  {
   "cell_type": "code",
   "execution_count": 26,
   "metadata": {},
   "outputs": [],
   "source": [
    "%lprun -f profile_fast profile_fast(1000)"
   ]
  },
  {
   "cell_type": "code",
   "execution_count": 27,
   "metadata": {},
   "outputs": [],
   "source": [
    "%lprun -f fast_func profile_fast(1000)"
   ]
  },
  {
   "cell_type": "markdown",
   "metadata": {},
   "source": [
    "## Modeling in Python and R <a name=\"combining_languages\"></a>"
   ]
  },
  {
   "cell_type": "markdown",
   "metadata": {},
   "source": [
    "Let's try working through a simple analytics example using a Jupyter Notebook, in both R and Python.\n",
    "\n",
    "You acquire a small life insurance company. Unfortunately, the underwriting manual they were using to accept cases was tragically lost in the acquisition. You are tasked with recreating their underwriting manual as closely as possible. The carrier only had one class, so underwriting outcomes are either **Standard** or **Decline**.\n",
    "\n",
    "Fortunately, the company had a dataset of the last 10000 applications which were received over the past year and include information such as:\n",
    "* Underwriting class\n",
    "* Issue age\n",
    "* Face Amount\n",
    "* BMI\n",
    "* Does the person have diabetes?\n",
    "* Does the person have high blood pressure?"
   ]
  },
  {
   "cell_type": "code",
   "execution_count": 28,
   "metadata": {},
   "outputs": [],
   "source": [
    "%matplotlib inline"
   ]
  },
  {
   "cell_type": "code",
   "execution_count": 29,
   "metadata": {},
   "outputs": [],
   "source": [
    "import pandas as pd\n",
    "import seaborn as sns"
   ]
  },
  {
   "cell_type": "code",
   "execution_count": 30,
   "metadata": {},
   "outputs": [
    {
     "data": {
      "text/html": [
       "<div>\n",
       "<style scoped>\n",
       "    .dataframe tbody tr th:only-of-type {\n",
       "        vertical-align: middle;\n",
       "    }\n",
       "\n",
       "    .dataframe tbody tr th {\n",
       "        vertical-align: top;\n",
       "    }\n",
       "\n",
       "    .dataframe thead th {\n",
       "        text-align: right;\n",
       "    }\n",
       "</style>\n",
       "<table border=\"1\" class=\"dataframe\">\n",
       "  <thead>\n",
       "    <tr style=\"text-align: right;\">\n",
       "      <th></th>\n",
       "      <th>Underwriting Class</th>\n",
       "      <th>Face Amount</th>\n",
       "      <th>Issue Age</th>\n",
       "      <th>BMI</th>\n",
       "      <th>Diabetes</th>\n",
       "      <th>High Blood Pressure</th>\n",
       "    </tr>\n",
       "    <tr>\n",
       "      <th>Person ID</th>\n",
       "      <th></th>\n",
       "      <th></th>\n",
       "      <th></th>\n",
       "      <th></th>\n",
       "      <th></th>\n",
       "      <th></th>\n",
       "    </tr>\n",
       "  </thead>\n",
       "  <tbody>\n",
       "    <tr>\n",
       "      <td>1</td>\n",
       "      <td>Standard</td>\n",
       "      <td>495000.0</td>\n",
       "      <td>49.0</td>\n",
       "      <td>28.967711</td>\n",
       "      <td>False</td>\n",
       "      <td>False</td>\n",
       "    </tr>\n",
       "    <tr>\n",
       "      <td>2</td>\n",
       "      <td>Standard</td>\n",
       "      <td>375000.0</td>\n",
       "      <td>55.0</td>\n",
       "      <td>26.110713</td>\n",
       "      <td>False</td>\n",
       "      <td>False</td>\n",
       "    </tr>\n",
       "    <tr>\n",
       "      <td>3</td>\n",
       "      <td>Standard</td>\n",
       "      <td>234000.0</td>\n",
       "      <td>38.0</td>\n",
       "      <td>24.237394</td>\n",
       "      <td>False</td>\n",
       "      <td>False</td>\n",
       "    </tr>\n",
       "    <tr>\n",
       "      <td>4</td>\n",
       "      <td>Standard</td>\n",
       "      <td>477000.0</td>\n",
       "      <td>42.0</td>\n",
       "      <td>20.039574</td>\n",
       "      <td>False</td>\n",
       "      <td>False</td>\n",
       "    </tr>\n",
       "    <tr>\n",
       "      <td>5</td>\n",
       "      <td>Standard</td>\n",
       "      <td>776000.0</td>\n",
       "      <td>58.0</td>\n",
       "      <td>24.926617</td>\n",
       "      <td>False</td>\n",
       "      <td>False</td>\n",
       "    </tr>\n",
       "  </tbody>\n",
       "</table>\n",
       "</div>"
      ],
      "text/plain": [
       "          Underwriting Class  Face Amount  Issue Age        BMI  Diabetes  \\\n",
       "Person ID                                                                   \n",
       "1                   Standard     495000.0       49.0  28.967711     False   \n",
       "2                   Standard     375000.0       55.0  26.110713     False   \n",
       "3                   Standard     234000.0       38.0  24.237394     False   \n",
       "4                   Standard     477000.0       42.0  20.039574     False   \n",
       "5                   Standard     776000.0       58.0  24.926617     False   \n",
       "\n",
       "           High Blood Pressure  \n",
       "Person ID                       \n",
       "1                        False  \n",
       "2                        False  \n",
       "3                        False  \n",
       "4                        False  \n",
       "5                        False  "
      ]
     },
     "execution_count": 30,
     "metadata": {},
     "output_type": "execute_result"
    }
   ],
   "source": [
    "df = pd.read_csv(\"data/underwriting_data.csv\")\n",
    "df.set_index(\"Person ID\", inplace=True)\n",
    "df.head()"
   ]
  },
  {
   "cell_type": "code",
   "execution_count": 31,
   "metadata": {},
   "outputs": [
    {
     "data": {
      "text/html": [
       "<div>\n",
       "<style scoped>\n",
       "    .dataframe tbody tr th:only-of-type {\n",
       "        vertical-align: middle;\n",
       "    }\n",
       "\n",
       "    .dataframe tbody tr th {\n",
       "        vertical-align: top;\n",
       "    }\n",
       "\n",
       "    .dataframe thead th {\n",
       "        text-align: right;\n",
       "    }\n",
       "</style>\n",
       "<table border=\"1\" class=\"dataframe\">\n",
       "  <thead>\n",
       "    <tr style=\"text-align: right;\">\n",
       "      <th></th>\n",
       "      <th>Face Amount</th>\n",
       "      <th>Issue Age</th>\n",
       "      <th>BMI</th>\n",
       "    </tr>\n",
       "  </thead>\n",
       "  <tbody>\n",
       "    <tr>\n",
       "      <td>count</td>\n",
       "      <td>10000.000000</td>\n",
       "      <td>10000.000000</td>\n",
       "      <td>10000.000000</td>\n",
       "    </tr>\n",
       "    <tr>\n",
       "      <td>mean</td>\n",
       "      <td>511974.700000</td>\n",
       "      <td>39.789500</td>\n",
       "      <td>25.641679</td>\n",
       "    </tr>\n",
       "    <tr>\n",
       "      <td>std</td>\n",
       "      <td>192065.736623</td>\n",
       "      <td>9.923026</td>\n",
       "      <td>3.253010</td>\n",
       "    </tr>\n",
       "    <tr>\n",
       "      <td>min</td>\n",
       "      <td>103000.000000</td>\n",
       "      <td>18.000000</td>\n",
       "      <td>20.039574</td>\n",
       "    </tr>\n",
       "    <tr>\n",
       "      <td>25%</td>\n",
       "      <td>361000.000000</td>\n",
       "      <td>32.000000</td>\n",
       "      <td>23.673372</td>\n",
       "    </tr>\n",
       "    <tr>\n",
       "      <td>50%</td>\n",
       "      <td>502000.000000</td>\n",
       "      <td>39.000000</td>\n",
       "      <td>25.158604</td>\n",
       "    </tr>\n",
       "    <tr>\n",
       "      <td>75%</td>\n",
       "      <td>651000.000000</td>\n",
       "      <td>47.000000</td>\n",
       "      <td>26.901814</td>\n",
       "    </tr>\n",
       "    <tr>\n",
       "      <td>max</td>\n",
       "      <td>998000.000000</td>\n",
       "      <td>67.000000</td>\n",
       "      <td>44.773736</td>\n",
       "    </tr>\n",
       "  </tbody>\n",
       "</table>\n",
       "</div>"
      ],
      "text/plain": [
       "         Face Amount     Issue Age           BMI\n",
       "count   10000.000000  10000.000000  10000.000000\n",
       "mean   511974.700000     39.789500     25.641679\n",
       "std    192065.736623      9.923026      3.253010\n",
       "min    103000.000000     18.000000     20.039574\n",
       "25%    361000.000000     32.000000     23.673372\n",
       "50%    502000.000000     39.000000     25.158604\n",
       "75%    651000.000000     47.000000     26.901814\n",
       "max    998000.000000     67.000000     44.773736"
      ]
     },
     "execution_count": 31,
     "metadata": {},
     "output_type": "execute_result"
    }
   ],
   "source": [
    "df.describe()"
   ]
  },
  {
   "cell_type": "code",
   "execution_count": 32,
   "metadata": {},
   "outputs": [
    {
     "data": {
      "text/plain": [
       "Standard    0.9\n",
       "Decline     0.1\n",
       "Name: Underwriting Class, dtype: float64"
      ]
     },
     "execution_count": 32,
     "metadata": {},
     "output_type": "execute_result"
    }
   ],
   "source": [
    "df['Underwriting Class'].value_counts(normalize=True)"
   ]
  },
  {
   "cell_type": "code",
   "execution_count": 33,
   "metadata": {
    "scrolled": true
   },
   "outputs": [
    {
     "data": {
      "text/html": [
       "<div>\n",
       "<style scoped>\n",
       "    .dataframe tbody tr th:only-of-type {\n",
       "        vertical-align: middle;\n",
       "    }\n",
       "\n",
       "    .dataframe tbody tr th {\n",
       "        vertical-align: top;\n",
       "    }\n",
       "\n",
       "    .dataframe thead th {\n",
       "        text-align: right;\n",
       "    }\n",
       "</style>\n",
       "<table border=\"1\" class=\"dataframe\">\n",
       "  <thead>\n",
       "    <tr style=\"text-align: right;\">\n",
       "      <th></th>\n",
       "      <th>Diabetes</th>\n",
       "      <th>High Blood Pressure</th>\n",
       "    </tr>\n",
       "    <tr>\n",
       "      <th>Underwriting Class</th>\n",
       "      <th></th>\n",
       "      <th></th>\n",
       "    </tr>\n",
       "  </thead>\n",
       "  <tbody>\n",
       "    <tr>\n",
       "      <td>Decline</td>\n",
       "      <td>0.149000</td>\n",
       "      <td>0.190000</td>\n",
       "    </tr>\n",
       "    <tr>\n",
       "      <td>Standard</td>\n",
       "      <td>0.045556</td>\n",
       "      <td>0.030444</td>\n",
       "    </tr>\n",
       "  </tbody>\n",
       "</table>\n",
       "</div>"
      ],
      "text/plain": [
       "                    Diabetes  High Blood Pressure\n",
       "Underwriting Class                               \n",
       "Decline             0.149000             0.190000\n",
       "Standard            0.045556             0.030444"
      ]
     },
     "execution_count": 33,
     "metadata": {},
     "output_type": "execute_result"
    }
   ],
   "source": [
    "df.pivot_table(index=\"Underwriting Class\", values=[\"Diabetes\", \"High Blood Pressure\"])"
   ]
  },
  {
   "cell_type": "code",
   "execution_count": 34,
   "metadata": {},
   "outputs": [
    {
     "data": {
      "text/plain": [
       "<seaborn.axisgrid.PairGrid at 0xb6d12b0>"
      ]
     },
     "execution_count": 34,
     "metadata": {},
     "output_type": "execute_result"
    },
    {
     "data": {
      "image/png": "[encoded data removed]",
      "text/plain": [
       "<Figure size 642.5x540 with 12 Axes>"
      ]
     },
     "metadata": {
      "needs_background": "light"
     },
     "output_type": "display_data"
    }
   ],
   "source": [
    "sns.pairplot(df[[\"Underwriting Class\", \"Issue Age\", \"Face Amount\", \"BMI\"]], \n",
    "             hue=\"Underwriting Class\", \n",
    "             diag_kind=\"kde\")"
   ]
  },
  {
   "cell_type": "markdown",
   "metadata": {},
   "source": [
    "Sample documentation:\n",
    "* Declines are skewed slighly older than standards\n",
    "* The mean face amount for declines << mean face amount for standard. In fact, all face amounts about 500K are standard cases.\n",
    "* All applicants with BMI over 30 are declined\n",
    "* There are no applications with Face >500K and BMI > 30\n",
    "* There is no relationship between face amount and issue age, or BMI and issue age.\n"
   ]
  },
  {
   "cell_type": "markdown",
   "metadata": {},
   "source": [
    "While matplotlib has impressive plotting capabilities, some things might be more familiar to do within ggplot."
   ]
  },
  {
   "cell_type": "code",
   "execution_count": 35,
   "metadata": {},
   "outputs": [],
   "source": [
    "%load_ext rpy2.ipython"
   ]
  },
  {
   "cell_type": "code",
   "execution_count": 36,
   "metadata": {},
   "outputs": [
    {
     "data": {
      "text/plain": [
       "array([1], dtype=int32)"
      ]
     },
     "execution_count": 36,
     "metadata": {},
     "output_type": "execute_result"
    }
   ],
   "source": [
    "# We need ggplot2\n",
    "%R require(ggplot2)"
   ]
  },
  {
   "cell_type": "code",
   "execution_count": 37,
   "metadata": {},
   "outputs": [
    {
     "name": "stderr",
     "output_type": "stream",
     "text": [
      "C:\\Users\\n163372\\AppData\\Local\\Continuum\\anaconda3\\envs\\basic_env\\lib\\site-packages\\rpy2\\robjects\\pandas2ri.py:191: FutureWarning: from_items is deprecated. Please use DataFrame.from_dict(dict(items), ...) instead. DataFrame.from_dict(OrderedDict(items)) may be used to preserve the key order.\n",
      "  res = PandasDataFrame.from_items(items)\n"
     ]
    },
    {
     "data": {
      "image/png": "[encoded data removed]"
     },
     "metadata": {},
     "output_type": "display_data"
    }
   ],
   "source": [
    "%%R -i df\n",
    "ggplot(df, aes(BMI, Face.Amount, color=Underwriting.Class)) + geom_point()"
   ]
  },
  {
   "cell_type": "code",
   "execution_count": 38,
   "metadata": {},
   "outputs": [
    {
     "data": {
      "image/png": "[encoded data removed]"
     },
     "metadata": {},
     "output_type": "display_data"
    }
   ],
   "source": [
    "%%R\n",
    "ggplot(df, aes(Diabetes, ..count..)) + geom_bar(aes(fill=Underwriting.Class))"
   ]
  },
  {
   "cell_type": "markdown",
   "metadata": {},
   "source": [
    "#### Begin simple tree model"
   ]
  },
  {
   "cell_type": "code",
   "execution_count": 39,
   "metadata": {},
   "outputs": [],
   "source": [
    "features = [\"Issue Age\", \"Face Amount\", \"BMI\", \"Diabetes\", \"High Blood Pressure\"]\n",
    "X = df[features]\n",
    "y = df[\"Underwriting Class\"]"
   ]
  },
  {
   "cell_type": "code",
   "execution_count": 40,
   "metadata": {},
   "outputs": [],
   "source": [
    "from sklearn.tree import DecisionTreeClassifier, export_graphviz"
   ]
  },
  {
   "cell_type": "code",
   "execution_count": 41,
   "metadata": {},
   "outputs": [],
   "source": [
    "clf = DecisionTreeClassifier(max_depth=4, min_impurity_decrease=.001, random_state=0)"
   ]
  },
  {
   "cell_type": "code",
   "execution_count": 42,
   "metadata": {},
   "outputs": [
    {
     "data": {
      "text/plain": [
       "DecisionTreeClassifier(class_weight=None, criterion='gini', max_depth=4,\n",
       "                       max_features=None, max_leaf_nodes=None,\n",
       "                       min_impurity_decrease=0.001, min_impurity_split=None,\n",
       "                       min_samples_leaf=1, min_samples_split=2,\n",
       "                       min_weight_fraction_leaf=0.0, presort=False,\n",
       "                       random_state=0, splitter='best')"
      ]
     },
     "execution_count": 42,
     "metadata": {},
     "output_type": "execute_result"
    }
   ],
   "source": [
    "clf.fit(X, y)"
   ]
  },
  {
   "cell_type": "code",
   "execution_count": 43,
   "metadata": {},
   "outputs": [],
   "source": [
    "def visualize_tree(clf, features):\n",
    "    from PIL import Image\n",
    "    \n",
    "    # Export classifier to DOT file\n",
    "    # DOT files are used to store graphs\n",
    "    with open(\"dt.dot\", 'w') as f:\n",
    "        export_graphviz(clf,\n",
    "                        out_file=f,\n",
    "                        feature_names=features)\n",
    "        \n",
    "    # On the command line, convert the DOT file to PNG (a standard graphics format)\n",
    "    # Note that Graphviz must installed and be in your system's PATH variable\n",
    "    !dot -Tpng dt.dot -o dt.png\n",
    "    \n",
    "    # View the image using Python Imaging Library\n",
    "    im = Image.open(\"dt.png\")\n",
    "    return im"
   ]
  },
  {
   "cell_type": "code",
   "execution_count": 44,
   "metadata": {},
   "outputs": [
    {
     "data": {
      "image/png": "[encoded data removed]",
      "text/plain": [
       "<PIL.PngImagePlugin.PngImageFile image mode=RGBA size=654x636 at 0x1443ED30>"
      ]
     },
     "execution_count": 44,
     "metadata": {},
     "output_type": "execute_result"
    }
   ],
   "source": [
    "visualize_tree(clf, features)"
   ]
  },
  {
   "cell_type": "markdown",
   "metadata": {},
   "source": [
    "How well did we do?"
   ]
  },
  {
   "cell_type": "code",
   "execution_count": 45,
   "metadata": {},
   "outputs": [],
   "source": [
    "from sklearn.metrics import accuracy_score, confusion_matrix, precision_score, recall_score, precision_recall_curve, auc"
   ]
  },
  {
   "cell_type": "code",
   "execution_count": 46,
   "metadata": {},
   "outputs": [],
   "source": [
    "predictions = clf.predict(X)"
   ]
  },
  {
   "cell_type": "code",
   "execution_count": 47,
   "metadata": {},
   "outputs": [
    {
     "name": "stdout",
     "output_type": "stream",
     "text": [
      "Accuracy of decision tree: 96.3%\n"
     ]
    }
   ],
   "source": [
    "print(\"Accuracy of decision tree: {0:.1f}%\".format(100*accuracy_score(y, predictions)))"
   ]
  },
  {
   "cell_type": "markdown",
   "metadata": {},
   "source": [
    "The columns represent the model prediction and the rows represent the actual underwriting outcome."
   ]
  },
  {
   "cell_type": "code",
   "execution_count": 48,
   "metadata": {},
   "outputs": [
    {
     "name": "stdout",
     "output_type": "stream",
     "text": [
      "Confusion Matrix: \n"
     ]
    },
    {
     "data": {
      "text/html": [
       "<div>\n",
       "<style scoped>\n",
       "    .dataframe tbody tr th:only-of-type {\n",
       "        vertical-align: middle;\n",
       "    }\n",
       "\n",
       "    .dataframe tbody tr th {\n",
       "        vertical-align: top;\n",
       "    }\n",
       "\n",
       "    .dataframe thead th {\n",
       "        text-align: right;\n",
       "    }\n",
       "</style>\n",
       "<table border=\"1\" class=\"dataframe\">\n",
       "  <thead>\n",
       "    <tr style=\"text-align: right;\">\n",
       "      <th></th>\n",
       "      <th>Predicted Decline</th>\n",
       "      <th>Predicted Standard</th>\n",
       "    </tr>\n",
       "  </thead>\n",
       "  <tbody>\n",
       "    <tr>\n",
       "      <td>Actual Decline</td>\n",
       "      <td>672</td>\n",
       "      <td>328</td>\n",
       "    </tr>\n",
       "    <tr>\n",
       "      <td>Actual Standard</td>\n",
       "      <td>40</td>\n",
       "      <td>8960</td>\n",
       "    </tr>\n",
       "  </tbody>\n",
       "</table>\n",
       "</div>"
      ],
      "text/plain": [
       "                 Predicted Decline  Predicted Standard\n",
       "Actual Decline                 672                 328\n",
       "Actual Standard                 40                8960"
      ]
     },
     "execution_count": 48,
     "metadata": {},
     "output_type": "execute_result"
    }
   ],
   "source": [
    "print(\"Confusion Matrix: \")\n",
    "pd.DataFrame(confusion_matrix(y, predictions),\n",
    "             columns=[\"Predicted Decline\", \"Predicted Standard\"],\n",
    "             index=[\"Actual Decline\", \"Actual Standard\"])"
   ]
  },
  {
   "cell_type": "code",
   "execution_count": 49,
   "metadata": {},
   "outputs": [
    {
     "name": "stdout",
     "output_type": "stream",
     "text": [
      "Precision of decision tree: 96.5%\n",
      "Recall of decision tree: 99.6%\n"
     ]
    }
   ],
   "source": [
    "print(\"Precision of decision tree: {0:.1f}%\".format(100*precision_score(y, predictions, pos_label='Standard')))\n",
    "print(\"Recall of decision tree: {0:.1f}%\".format(100*recall_score(y, predictions, pos_label='Standard')))"
   ]
  },
  {
   "cell_type": "code",
   "execution_count": 50,
   "metadata": {},
   "outputs": [],
   "source": [
    "import matplotlib.pyplot as plt"
   ]
  },
  {
   "cell_type": "code",
   "execution_count": 51,
   "metadata": {},
   "outputs": [
    {
     "name": "stdout",
     "output_type": "stream",
     "text": [
      "AUC-PR: 0.991271\n"
     ]
    },
    {
     "data": {
      "image/png": "[encoded data removed]",
      "text/plain": [
       "<Figure size 432x288 with 1 Axes>"
      ]
     },
     "metadata": {
      "needs_background": "light"
     },
     "output_type": "display_data"
    }
   ],
   "source": [
    "probabilities = clf.predict_proba(X)\n",
    "precision_curve, recall_curve, pr_thresholds = precision_recall_curve(y, probabilities[:,1], pos_label='Standard')\n",
    "plt.plot(recall_curve, precision_curve)\n",
    "plt.xlabel('Recall')\n",
    "plt.ylabel('Precision')\n",
    "auc_val = auc(recall_curve, precision_curve)\n",
    "print('AUC-PR: {0:1f}'.format(auc_val))"
   ]
  },
  {
   "cell_type": "markdown",
   "metadata": {},
   "source": [
    "All my metrics (accuracy, precision, recall, AUC) look very good.  \n",
    "In the real world: have I overfit to the data?"
   ]
  },
  {
   "cell_type": "markdown",
   "metadata": {},
   "source": [
    "#### We can also quickly build a GLM in R and extract predictions.\n",
    "Please note this is just an example, we should still check that all assumptions of logistic regression are met before accepting this model."
   ]
  },
  {
   "cell_type": "code",
   "execution_count": 52,
   "metadata": {},
   "outputs": [],
   "source": [
    "%%R\n",
    "df$Underwriting.Class = as.factor(df$Underwriting.Class)\n",
    "glmfit <- glm(Underwriting.Class ~ ., family=binomial, data=df)\n",
    "r_summary <- capture.output(summary(glmfit))"
   ]
  },
  {
   "cell_type": "code",
   "execution_count": 53,
   "metadata": {},
   "outputs": [
    {
     "name": "stdout",
     "output_type": "stream",
     "text": [
      "glm(formula = Underwriting.Class ~ ., family = binomial, data = df)\n",
      "\n",
      "Deviance Residuals: \n",
      "    Min       1Q   Median       3Q      Max  \n",
      "-3.9346   0.0239   0.0717   0.1826   2.3201  \n",
      "\n",
      "Coefficients:\n",
      "                          Estimate Std. Error z value Pr(>|z|)    \n",
      "(Intercept)              1.747e+01  7.194e-01  24.276  < 2e-16 ***\n",
      "Face.Amount              1.136e-05  5.131e-07  22.136  < 2e-16 ***\n",
      "Issue.Age               -5.660e-02  5.658e-03 -10.004  < 2e-16 ***\n",
      "BMI                     -6.245e-01  2.394e-02 -26.085  < 2e-16 ***\n",
      "DiabetesTRUE            -1.148e+00  1.946e-01  -5.897  3.7e-09 ***\n",
      "High.Blood.PressureTRUE -2.224e+00  1.904e-01 -11.684  < 2e-16 ***\n",
      "---\n",
      "Signif. codes:  0 '***' 0.001 '**' 0.01 '*' 0.05 '.' 0.1 ' ' 1\n",
      "\n",
      "(Dispersion parameter for binomial family taken to be 1)\n",
      "\n",
      "    Null deviance: 6501.7  on 9999  degrees of freedom\n",
      "Residual deviance: 2222.1  on 9994  degrees of freedom\n",
      "AIC: 2234.1\n",
      "\n",
      "Number of Fisher Scoring iterations: 8\n"
     ]
    }
   ],
   "source": [
    "r_summary = %R r_summary\n",
    "for line in r_summary[2:-1]:\n",
    "    print(line)"
   ]
  },
  {
   "cell_type": "code",
   "execution_count": 54,
   "metadata": {},
   "outputs": [],
   "source": [
    "%%R -o glm_predictions\n",
    "glm_predictions <- predict(glmfit, df, type=\"response\")"
   ]
  },
  {
   "cell_type": "code",
   "execution_count": 55,
   "metadata": {},
   "outputs": [
    {
     "data": {
      "text/plain": [
       "rpy2.robjects.vectors.FloatVector"
      ]
     },
     "execution_count": 55,
     "metadata": {},
     "output_type": "execute_result"
    }
   ],
   "source": [
    "type(glm_predictions)"
   ]
  },
  {
   "cell_type": "code",
   "execution_count": 56,
   "metadata": {},
   "outputs": [],
   "source": [
    "import numpy as np"
   ]
  },
  {
   "cell_type": "code",
   "execution_count": 57,
   "metadata": {},
   "outputs": [
    {
     "data": {
      "text/plain": [
       "array([0.90248766, 0.90942186, 0.94464412, ..., 0.54991705, 0.83170728,\n",
       "       0.21185266])"
      ]
     },
     "execution_count": 57,
     "metadata": {},
     "output_type": "execute_result"
    }
   ],
   "source": [
    "np.asarray(glm_predictions)"
   ]
  },
  {
   "cell_type": "markdown",
   "metadata": {},
   "source": [
    "# Widgets <a name=\"widgets\"></a>\n",
    "Widgets are a great way to add interactivity to your notebooks. [Installation Instructions & Documentation](https://ipywidgets.readthedocs.io/en/stable/)"
   ]
  },
  {
   "cell_type": "code",
   "execution_count": 58,
   "metadata": {},
   "outputs": [],
   "source": [
    "from ipywidgets import widgets"
   ]
  },
  {
   "cell_type": "code",
   "execution_count": 59,
   "metadata": {},
   "outputs": [
    {
     "data": {
      "application/vnd.jupyter.widget-view+json": {
       "model_id": "f249d81377154a0a8a9695e7e6255188",
       "version_major": 2,
       "version_minor": 0
      },
      "text/plain": [
       "Text(value='')"
      ]
     },
     "metadata": {},
     "output_type": "display_data"
    }
   ],
   "source": [
    "text = widgets.Text()\n",
    "display(text)\n",
    "\n",
    "def handle_submit(sender):\n",
    "    print(text.value.upper())\n",
    "    \n",
    "text.on_submit(handle_submit);"
   ]
  },
  {
   "cell_type": "code",
   "execution_count": 60,
   "metadata": {},
   "outputs": [
    {
     "data": {
      "application/vnd.jupyter.widget-view+json": {
       "model_id": "778f597e848f4900a0356a4d31a4fb8f",
       "version_major": 2,
       "version_minor": 0
      },
      "text/plain": [
       "Button(description='Click Me!', style=ButtonStyle())"
      ]
     },
     "metadata": {},
     "output_type": "display_data"
    }
   ],
   "source": [
    "button = widgets.Button(description=\"Click Me!\")\n",
    "display(button)\n",
    "\n",
    "def on_button_clicked(b):\n",
    "    print(\"Button clicked.\")\n",
    "    \n",
    "button.on_click(on_button_clicked);"
   ]
  },
  {
   "cell_type": "code",
   "execution_count": 61,
   "metadata": {},
   "outputs": [
    {
     "data": {
      "application/vnd.jupyter.widget-view+json": {
       "model_id": "258e379542334780a8eefa387aa97231",
       "version_major": 2,
       "version_minor": 0
      },
      "text/plain": [
       "interactive(children=(IntSlider(value=100, description='x', max=300, min=-100), Output()), _dom_classes=('widg…"
      ]
     },
     "metadata": {},
     "output_type": "display_data"
    }
   ],
   "source": [
    "def f(x):\n",
    "    print(x)\n",
    "    \n",
    "widgets.interact(f, x=100);"
   ]
  },
  {
   "cell_type": "markdown",
   "metadata": {},
   "source": [
    "Let's combine our widget knowledge and create some kickout rules for the dataset above."
   ]
  },
  {
   "cell_type": "code",
   "execution_count": 62,
   "metadata": {},
   "outputs": [
    {
     "data": {
      "application/vnd.jupyter.widget-view+json": {
       "model_id": "df3a77447d1948918de04ce3151a787e",
       "version_major": 2,
       "version_minor": 0
      },
      "text/plain": [
       "Checkbox(value=False, description='Kick out Diabetes?')"
      ]
     },
     "metadata": {},
     "output_type": "display_data"
    },
    {
     "data": {
      "application/vnd.jupyter.widget-view+json": {
       "model_id": "290e276960f743499024798cf08fca6c",
       "version_major": 2,
       "version_minor": 0
      },
      "text/plain": [
       "Checkbox(value=False, description='Kick out High Blood Pressure?')"
      ]
     },
     "metadata": {},
     "output_type": "display_data"
    },
    {
     "data": {
      "application/vnd.jupyter.widget-view+json": {
       "model_id": "5119626914d14b4eb2fba47bd9fe7db8",
       "version_major": 2,
       "version_minor": 0
      },
      "text/plain": [
       "FloatRangeSlider(value=(20.0, 45.0), description='Acceptable BMI Range', max=50.0, min=10.0)"
      ]
     },
     "metadata": {},
     "output_type": "display_data"
    },
    {
     "data": {
      "application/vnd.jupyter.widget-view+json": {
       "model_id": "6367f10050e84ead9f0f55ae5963c7b1",
       "version_major": 2,
       "version_minor": 0
      },
      "text/plain": [
       "IntRangeSlider(value=(18, 75), description='Acceptable Issue Age Range', max=120)"
      ]
     },
     "metadata": {},
     "output_type": "display_data"
    },
    {
     "data": {
      "application/vnd.jupyter.widget-view+json": {
       "model_id": "234de958e30f40c68de2690fbcac2b1e",
       "version_major": 2,
       "version_minor": 0
      },
      "text/plain": [
       "FloatSlider(value=1000000.0, description='Face Amount Threshold', max=1000000.0, readout_format='$,.0f', step=…"
      ]
     },
     "metadata": {},
     "output_type": "display_data"
    },
    {
     "data": {
      "application/vnd.jupyter.widget-view+json": {
       "model_id": "17c22598c3344ec5b3bdd82c60ae15d1",
       "version_major": 2,
       "version_minor": 0
      },
      "text/plain": [
       "Text(value='', description='Straight Through Pass Rate')"
      ]
     },
     "metadata": {},
     "output_type": "display_data"
    },
    {
     "data": {
      "application/vnd.jupyter.widget-view+json": {
       "model_id": "841f52f9cdaa461aa894972e24c0a920",
       "version_major": 2,
       "version_minor": 0
      },
      "text/plain": [
       "Text(value='', description='Decline Percentage')"
      ]
     },
     "metadata": {},
     "output_type": "display_data"
    }
   ],
   "source": [
    "diabetes_button = widgets.Checkbox(value=False, description=\"Kick out Diabetes?\")\n",
    "hbp_button = widgets.Checkbox(value=False, description=\"Kick out High Blood Pressure?\")\n",
    "bmi_slider = widgets.FloatRangeSlider(value=[20, 45], min=10, max=50, step=.1, description=\"Acceptable BMI Range\")\n",
    "issue_age_slider = widgets.IntRangeSlider(value=[18, 75], min=0, max=120, step=1.0, \n",
    "                                            description=\"Acceptable Issue Age Range\")\n",
    "face_amount_slider = widgets.FloatSlider(value=1e6, min=0, max=1e6, step=10000, readout_format=\"$,.0f\", \n",
    "                                         description=\"Face Amount Threshold\")\n",
    "\n",
    "display(diabetes_button)\n",
    "display(hbp_button)\n",
    "display(bmi_slider)\n",
    "display(issue_age_slider)\n",
    "display(face_amount_slider)\n",
    "\n",
    "stp_text = widgets.Text(description=\"Straight Through Pass Rate\")\n",
    "decline_text = widgets.Text(description=\"Decline Percentage\")\n",
    "\n",
    "display(stp_text)\n",
    "display(decline_text)\n",
    "\n",
    "def calc_metrics(sender):\n",
    "    ix = True\n",
    "    if diabetes_button.value:\n",
    "        ix &= ~df[\"Diabetes\"]\n",
    "    if hbp_button.value:\n",
    "        ix &= ~df[\"High Blood Pressure\"]\n",
    "    ix &= df[\"BMI\"] >= bmi_slider.value[0]\n",
    "    ix &= df[\"BMI\"] <= bmi_slider.value[1]\n",
    "    \n",
    "    ix &= df[\"Issue Age\"] >= issue_age_slider.value[0]\n",
    "    ix &= df[\"Issue Age\"] <= issue_age_slider.value[1]\n",
    "    \n",
    "    ix &= df[\"Face Amount\"] <= face_amount_slider.value\n",
    "        \n",
    "    tmp = df[ix]\n",
    "    \n",
    "    stp_text.value = \"{0:.0f}%\".format(100*tmp.shape[0] / df.shape[0])\n",
    "    decline_text.value = \"{0:.0f}%\".format(100*(tmp[\"Underwriting Class\"] == \"Decline\").sum() / tmp.shape[0])\n",
    "\n",
    "    \n",
    "diabetes_button.observe(calc_metrics)\n",
    "hbp_button.observe(calc_metrics)\n",
    "bmi_slider.observe(calc_metrics)\n",
    "issue_age_slider.observe(calc_metrics)\n",
    "face_amount_slider.observe(calc_metrics)\n",
    "calc_metrics(None);"
   ]
  },
  {
   "cell_type": "markdown",
   "metadata": {},
   "source": [
    "# Additional Resources <a name=\"additional_resources\"></a>"
   ]
  },
  {
   "cell_type": "markdown",
   "metadata": {},
   "source": [
    "## Jupyter Labs: [Try it Out](https://jupyterlab.readthedocs.io/en/stable/index.html)"
   ]
  },
  {
   "cell_type": "markdown",
   "metadata": {},
   "source": [
    "## Criticisms\n",
    "1. State is hidden (can run cells out of order)\n",
    "2. Version control difficulties\n",
    "    1. Work arounds [here](http://timstaley.co.uk/posts/making-git-and-jupyter-notebooks-play-nice/)\n",
    "3. Sharing notebooks \n",
    "    1. Share the actual notebook and let users interact (must have Jupyter installed)\n",
    "    1. Export as html/pdf\n",
    "    2. Render in [NB Viewer](https://nbviewer.jupyter.org/) or a repository such as GitHub   "
   ]
  },
  {
   "cell_type": "code",
   "execution_count": 63,
   "metadata": {},
   "outputs": [
    {
     "data": {
      "text/plain": [
       "<module 'utils' from 'C:\\\\Users\\\\n163372\\\\2019-soa-pa-jupyter-notebooks\\\\utils.py'>"
      ]
     },
     "execution_count": 63,
     "metadata": {},
     "output_type": "execute_result"
    }
   ],
   "source": [
    "import importlib\n",
    "import utils\n",
    "importlib.reload(utils)"
   ]
  },
  {
   "cell_type": "code",
   "execution_count": 64,
   "metadata": {},
   "outputs": [],
   "source": [
    "sample_value = 100e6"
   ]
  },
  {
   "cell_type": "code",
   "execution_count": 65,
   "metadata": {},
   "outputs": [],
   "source": [
    "formatted_sample = utils.format_amt(sample_value)"
   ]
  },
  {
   "cell_type": "code",
   "execution_count": 66,
   "metadata": {},
   "outputs": [
    {
     "data": {
      "text/plain": [
       "'100,000k'"
      ]
     },
     "execution_count": 66,
     "metadata": {},
     "output_type": "execute_result"
    }
   ],
   "source": [
    "formatted_sample"
   ]
  },
  {
   "cell_type": "markdown",
   "metadata": {},
   "source": [
    "## Best Practices\n",
    "1. Keep your old work. This is your laboratory notebook\n",
    "2. Follow best coding practices\n",
    "3. Use virtual environments -- share your requirements\n",
    "4. Rerun your notebook before sharing\n",
    "5. Explore"
   ]
  },
  {
   "cell_type": "markdown",
   "metadata": {},
   "source": [
    "## Web Resources\n",
    "* [Jupyter Kernels](https://github.com/jupyter/jupyter/wiki/Jupyter-kernels)\n",
    "* [Gallery of Interesting Notebooks](https://github.com/jupyter/jupyter/wiki/A-gallery-of-interesting-Jupyter-Notebooks)\n",
    "* [Mapping in Jupyter](http://www.bigendiandata.com/2017-06-27-Mapping_in_Jupyter/)\n",
    "* [Notebook Extensions](http://ndres.me/post/best-jupyter-notebook-extensions/)\n",
    "* [Jupyter Dashboards](https://jupyter-dashboards-layout.readthedocs.io/en/latest/)\n",
    "* [Tips and Tricks](https://www.dataquest.io/blog/jupyter-notebook-tips-tricks-shortcuts/)"
   ]
  }
 ],
 "metadata": {
  "kernelspec": {
   "display_name": "Python [conda env:basic_env] *",
   "language": "python",
   "name": "conda-env-basic_env-py"
  },
  "language_info": {
   "codemirror_mode": {
    "name": "ipython",
    "version": 3
   },
   "file_extension": ".py",
   "mimetype": "text/x-python",
   "name": "python",
   "nbconvert_exporter": "python",
   "pygments_lexer": "ipython3",
   "version": "3.7.3"
  },
  "widgets": {
   "application/vnd.jupyter.widget-state+json": {
    "state": {
     "023b1fc24fac4f84b9471f5a5823f7f4": {
      "model_module": "jupyter-js-widgets",
      "model_module_version": "~2.1.4",
      "model_name": "ButtonStyleModel",
      "state": {
       "_model_module_version": "~2.1.4",
       "_view_module_version": "~2.1.4"
      }
     },
     "080bf63cfc914adab5c337701b6e0951": {
      "model_module": "jupyter-js-widgets",
      "model_module_version": "~2.1.4",
      "model_name": "LayoutModel",
      "state": {
       "_model_module_version": "~2.1.4",
       "_view_module_version": "~2.1.4"
      }
     },
     "1ac6ed9a74f9462496cad32de514a960": {
      "model_module": "jupyter-js-widgets",
      "model_module_version": "~2.1.4",
      "model_name": "LayoutModel",
      "state": {
       "_model_module_version": "~2.1.4",
       "_view_module_version": "~2.1.4"
      }
     },
     "261990874e444970a7976d7a1a547e46": {
      "model_module": "jupyter-js-widgets",
      "model_module_version": "~2.1.4",
      "model_name": "TextModel",
      "state": {
       "_model_module_version": "~2.1.4",
       "_view_module_version": "~2.1.4",
       "description": "Straight Through Pass Rate",
       "layout": "IPY_MODEL_5de771b29e0c45f0a86945d68e9513a7",
       "value": "100%"
      }
     },
     "310ae8da361a41b89204bee8bdcc8967": {
      "model_module": "jupyter-js-widgets",
      "model_module_version": "~2.1.4",
      "model_name": "FloatSliderModel",
      "state": {
       "_model_module_version": "~2.1.4",
       "_view_module_version": "~2.1.4",
       "description": "Face Amount Threshold",
       "layout": "IPY_MODEL_e802af8ff427462f95401c612cbea1e6",
       "max": 1000000,
       "readout_format": "$,.0f",
       "step": 10000,
       "value": 1000000
      }
     },
     "388bf60df07d495e832f7284e8b92619": {
      "model_module": "jupyter-js-widgets",
      "model_module_version": "~2.1.4",
      "model_name": "IntSliderModel",
      "state": {
       "_model_module_version": "~2.1.4",
       "_range": true,
       "_view_module_version": "~2.1.4",
       "description": "Acceptable Issue Age Range",
       "layout": "IPY_MODEL_b2355b6cf03f4b60b49a3f2b9f0caddc",
       "max": 120,
       "slider_color": null,
       "value": [
        18,
        75
       ]
      }
     },
     "402bfcad76c748b19c36a25f9b62bbf6": {
      "model_module": "jupyter-js-widgets",
      "model_module_version": "~2.1.4",
      "model_name": "FloatSliderModel",
      "state": {
       "_model_module_version": "~2.1.4",
       "_range": true,
       "_view_module_version": "~2.1.4",
       "description": "Acceptable BMI Range",
       "layout": "IPY_MODEL_c335b52ff9b14b42bc91b33eebf7caad",
       "max": 50,
       "min": 10,
       "step": 0.1,
       "value": [
        20,
        45
       ]
      }
     },
     "543d478f709246b4ae8ec0b944bdb480": {
      "model_module": "jupyter-js-widgets",
      "model_module_version": "~2.1.4",
      "model_name": "CheckboxModel",
      "state": {
       "_model_module_version": "~2.1.4",
       "_view_module_version": "~2.1.4",
       "description": "Kick out High Blood Pressure?",
       "disabled": false,
       "layout": "IPY_MODEL_cb36643c147043e58c0d2a23effd3465",
       "value": false
      }
     },
     "5c4de47cd4854c5aaab45946b0d6686f": {
      "model_module": "jupyter-js-widgets",
      "model_module_version": "~2.1.4",
      "model_name": "OutputModel",
      "state": {
       "_dom_classes": [],
       "_model_module": "jupyter-js-widgets",
       "_model_module_version": "~2.1.4",
       "_view_module": "jupyter-js-widgets",
       "_view_module_version": "~2.1.4",
       "layout": "IPY_MODEL_e2a5e87a24804803a7196572dc234a70",
       "msg_throttle": 1
      }
     },
     "5cb51db13cda4973b40f697924edabc9": {
      "model_module": "jupyter-js-widgets",
      "model_module_version": "~2.1.4",
      "model_name": "LayoutModel",
      "state": {
       "_model_module_version": "~2.1.4",
       "_view_module_version": "~2.1.4"
      }
     },
     "5de771b29e0c45f0a86945d68e9513a7": {
      "model_module": "jupyter-js-widgets",
      "model_module_version": "~2.1.4",
      "model_name": "LayoutModel",
      "state": {
       "_model_module_version": "~2.1.4",
       "_view_module_version": "~2.1.4"
      }
     },
     "6089bece671c48219bd123714ae468f5": {
      "model_module": "jupyter-js-widgets",
      "model_module_version": "~2.1.4",
      "model_name": "VBoxModel",
      "state": {
       "_dom_classes": [
        "widget-interact"
       ],
       "_model_module_version": "~2.1.4",
       "_view_module_version": "~2.1.4",
       "children": [
        "IPY_MODEL_a14132f826d645d0b50b53be676b8c2b",
        "IPY_MODEL_5c4de47cd4854c5aaab45946b0d6686f"
       ],
       "layout": "IPY_MODEL_1ac6ed9a74f9462496cad32de514a960"
      }
     },
     "73955609df2e4485bf5d952f34cde7c5": {
      "model_module": "jupyter-js-widgets",
      "model_module_version": "~2.1.4",
      "model_name": "LayoutModel",
      "state": {
       "_model_module_version": "~2.1.4",
       "_view_module_version": "~2.1.4"
      }
     },
     "7540cbbef5274b5c8135ae51eb5f96bd": {
      "model_module": "jupyter-js-widgets",
      "model_module_version": "~2.1.4",
      "model_name": "ButtonModel",
      "state": {
       "_model_module_version": "~2.1.4",
       "_view_module_version": "~2.1.4",
       "description": "Click Me!",
       "layout": "IPY_MODEL_73955609df2e4485bf5d952f34cde7c5",
       "style": "IPY_MODEL_023b1fc24fac4f84b9471f5a5823f7f4"
      }
     },
     "7822a8c0fae148c4a0068bf264d65861": {
      "model_module": "jupyter-js-widgets",
      "model_module_version": "~2.1.4",
      "model_name": "TextModel",
      "state": {
       "_model_module_version": "~2.1.4",
       "_view_module_version": "~2.1.4",
       "layout": "IPY_MODEL_8b687b209c4c409db80c64b2681cfd2a"
      }
     },
     "878bd0712e034907a4cde9877feb594b": {
      "model_module": "jupyter-js-widgets",
      "model_module_version": "~2.1.4",
      "model_name": "TextModel",
      "state": {
       "_model_module_version": "~2.1.4",
       "_view_module_version": "~2.1.4",
       "description": "Decline Percentage",
       "layout": "IPY_MODEL_b8130ddade5447ebaf0bbeb854c1d4c6",
       "value": "10%"
      }
     },
     "8b687b209c4c409db80c64b2681cfd2a": {
      "model_module": "jupyter-js-widgets",
      "model_module_version": "~2.1.4",
      "model_name": "LayoutModel",
      "state": {
       "_model_module_version": "~2.1.4",
       "_view_module_version": "~2.1.4"
      }
     },
     "a14132f826d645d0b50b53be676b8c2b": {
      "model_module": "jupyter-js-widgets",
      "model_module_version": "~2.1.4",
      "model_name": "IntSliderModel",
      "state": {
       "_model_module_version": "~2.1.4",
       "_view_module_version": "~2.1.4",
       "description": "x",
       "layout": "IPY_MODEL_080bf63cfc914adab5c337701b6e0951",
       "max": 300,
       "min": -100,
       "style": "IPY_MODEL_af9bbd44bc2d486287b40d8d3b34155d",
       "value": 100
      }
     },
     "af9bbd44bc2d486287b40d8d3b34155d": {
      "model_module": "jupyter-js-widgets",
      "model_module_version": "~2.1.4",
      "model_name": "SliderStyleModel",
      "state": {
       "_model_module_version": "~2.1.4",
       "_view_module_version": "~2.1.4"
      }
     },
     "b2355b6cf03f4b60b49a3f2b9f0caddc": {
      "model_module": "jupyter-js-widgets",
      "model_module_version": "~2.1.4",
      "model_name": "LayoutModel",
      "state": {
       "_model_module_version": "~2.1.4",
       "_view_module_version": "~2.1.4"
      }
     },
     "b8130ddade5447ebaf0bbeb854c1d4c6": {
      "model_module": "jupyter-js-widgets",
      "model_module_version": "~2.1.4",
      "model_name": "LayoutModel",
      "state": {
       "_model_module_version": "~2.1.4",
       "_view_module_version": "~2.1.4"
      }
     },
     "bdf642ef8dbf438494331603b88afbab": {
      "model_module": "jupyter-js-widgets",
      "model_module_version": "~2.1.4",
      "model_name": "CheckboxModel",
      "state": {
       "_model_module_version": "~2.1.4",
       "_view_module_version": "~2.1.4",
       "description": "Kick out Diabetes?",
       "disabled": false,
       "layout": "IPY_MODEL_5cb51db13cda4973b40f697924edabc9",
       "value": false
      }
     },
     "c335b52ff9b14b42bc91b33eebf7caad": {
      "model_module": "jupyter-js-widgets",
      "model_module_version": "~2.1.4",
      "model_name": "LayoutModel",
      "state": {
       "_model_module_version": "~2.1.4",
       "_view_module_version": "~2.1.4"
      }
     },
     "cb36643c147043e58c0d2a23effd3465": {
      "model_module": "jupyter-js-widgets",
      "model_module_version": "~2.1.4",
      "model_name": "LayoutModel",
      "state": {
       "_model_module_version": "~2.1.4",
       "_view_module_version": "~2.1.4"
      }
     },
     "e2a5e87a24804803a7196572dc234a70": {
      "model_module": "jupyter-js-widgets",
      "model_module_version": "~2.1.4",
      "model_name": "LayoutModel",
      "state": {
       "_model_module_version": "~2.1.4",
       "_view_module_version": "~2.1.4"
      }
     },
     "e802af8ff427462f95401c612cbea1e6": {
      "model_module": "jupyter-js-widgets",
      "model_module_version": "~2.1.4",
      "model_name": "LayoutModel",
      "state": {
       "_model_module_version": "~2.1.4",
       "_view_module_version": "~2.1.4"
      }
     }
    },
    "version_major": 1,
    "version_minor": 0
   }
  }
 },
 "nbformat": 4,
 "nbformat_minor": 2
}
